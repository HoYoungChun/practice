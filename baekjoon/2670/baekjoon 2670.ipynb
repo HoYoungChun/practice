{
 "cells": [
  {
   "cell_type": "markdown",
   "metadata": {},
   "source": [
    "# 연속부분최대곱\n",
    "문제 https://www.acmicpc.net/problem/2670\n",
    "\n",
    "주어진 배열에서 연속된 부분곱 중에서 최대값을 찾아내는 문제이다. \n",
    "이러한 유형의 문제는 일반적으로 DP를 이용해 풀 수 있다. \n",
    "DP (다이나믹 프로그래밍) 또는 동적계획법에 대해서는 아래 링크를 살펴 보자. \n",
    "\n",
    "쉽고 유명한 문제로 피보나치를 빠르게 계산하는 문제가 있다. \n",
    "\n",
    "https://ko.wikipedia.org/wiki/%EB%8F%99%EC%A0%81_%EA%B3%84%ED%9A%8D%EB%B2%95 \n",
    "\n",
    "## 입력부 코드\n",
    "먼저 입력을 받는 부분 코드를 작성한다."
   ]
  },
  {
   "cell_type": "code",
   "execution_count": 1,
   "metadata": {},
   "outputs": [
    {
     "name": "stdout",
     "output_type": "stream",
     "text": [
      "[1.1, 0.7, 1.3, 0.9, 1.4, 0.8, 0.7, 1.4]\n"
     ]
    }
   ],
   "source": [
    "arr = [float(i) for i in '''1.1\n",
    "0.7\n",
    "1.3\n",
    "0.9\n",
    "1.4\n",
    "0.8\n",
    "0.7\n",
    "1.4'''.split('\\n')]\n",
    "\n",
    "print(arr)\n",
    "\n",
    "arr2 = arr[:]"
   ]
  },
  {
   "cell_type": "markdown",
   "metadata": {},
   "source": [
    "## 인접한 두 수의 곱 구하기 \n",
    "\n",
    "일단 5분 정도 고민했는데 답이 잘 생각나지 않아서, 생각나는 부분까지 코딩을 하기로 했다. \n",
    "배열을 하나 만들고 거기다 인접한 두 수의 곱을 구한다. \n",
    "그리고 그 중 최대값을 max_mul 값에 저장한다."
   ]
  },
  {
   "cell_type": "code",
   "execution_count": 2,
   "metadata": {},
   "outputs": [
    {
     "name": "stdout",
     "output_type": "stream",
     "text": [
      "[0.77, 0.9099999999999999, 1.1700000000000002, 1.26, 1.1199999999999999, 0.5599999999999999, 0.9799999999999999] 1.26\n"
     ]
    }
   ],
   "source": [
    "max_mul = 0\n",
    "temp_arr = []\n",
    "for i in range(len(arr) - 1):\n",
    "    mul = arr[i] * arr[i + 1]\n",
    "    temp_arr.append(mul)\n",
    "    max_mul = max(max_mul, mul)\n",
    "print(temp_arr, max_mul)"
   ]
  },
  {
   "cell_type": "markdown",
   "metadata": {},
   "source": [
    "## 시도1 \n",
    "\n",
    "위 과정을 짜고 보니, 그냥 위 과정을 계속 반복하면 답이 되는거라는 걸 생각했는데 코드를 짜고 곰곰히 생각해 보니 실패 "
   ]
  },
  {
   "cell_type": "code",
   "execution_count": 3,
   "metadata": {
    "scrolled": true
   },
   "outputs": [
    {
     "name": "stdout",
     "output_type": "stream",
     "text": [
      "i = 0 j = 6: arr = [0.77, 0.9099999999999999, 1.1700000000000002, 1.26, 1.1199999999999999, 0.5599999999999999, 0.9799999999999999, 1.4], max = 1.26\n",
      "i = 1 j = 5: arr = [0.7007, 1.0647, 1.4742000000000002, 1.4111999999999998, 0.6271999999999999, 0.5487999999999998, 0.9799999999999999, 1.4], max = 1.4742000000000002\n",
      "i = 2 j = 4: arr = [0.74603529, 1.5695807400000001, 2.08039104, 0.8851046399999997, 0.34420735999999985, 0.5487999999999998, 0.9799999999999999, 1.4], max = 2.08039104\n",
      "i = 3 j = 3: arr = [1.1709626225443148, 3.2653417080525697, 1.8413637625184247, 0.30465953145815017, 0.34420735999999985, 0.5487999999999998, 0.9799999999999999, 1.4], max = 3.2653417080525697\n",
      "i = 4 j = 2: arr = [3.8235930899645694, 6.012681893448019, 0.5609890211328797, 0.30465953145815017, 0.34420735999999985, 0.5487999999999998, 0.9799999999999999, 1.4], max = 6.012681893448019\n",
      "i = 5 j = 1: arr = [22.99004893994293, 3.3730485297887944, 0.5609890211328797, 0.30465953145815017, 0.34420735999999985, 0.5487999999999998, 0.9799999999999999, 1.4], max = 22.99004893994293\n",
      "i = 6 j = 0: arr = [77.54655077664694, 3.3730485297887944, 0.5609890211328797, 0.30465953145815017, 0.34420735999999985, 0.5487999999999998, 0.9799999999999999, 1.4], max = 77.54655077664694\n"
     ]
    }
   ],
   "source": [
    "max_mul = 0\n",
    "for i in range(len(arr) - 1):    \n",
    "    for j in range(len(arr) - 1 - i):\n",
    "        arr[j] = arr[j] * arr[j + 1]\n",
    "        max_mul = max(max_mul, arr[j])\n",
    "    print(\"i = %s j = %s: arr = %s, max = %s\" % (i, j, arr, max_mul))"
   ]
  },
  {
   "cell_type": "markdown",
   "metadata": {},
   "source": [
    "## 시도2\n",
    "`a, b, c, d, e -> ab, bc, cd, de -> abbc, bccd, ...` 이런식으로 중복이 생긴 다는 사실을 깨달았다. \n",
    "노트에 몇 번 끄적여서 오류를 수정한 코드를 작성해 보았다. \n",
    "좀 더 쉬운 확인을 위해 문자열을 이용해서 코드를 작성했다."
   ]
  },
  {
   "cell_type": "code",
   "execution_count": 4,
   "metadata": {},
   "outputs": [
    {
     "name": "stdout",
     "output_type": "stream",
     "text": [
      "['ab', 'bc', 'cd', 'de', 'e']\n",
      "['abc', 'bcd', 'cde', 'de', 'e']\n",
      "['abcd', 'bcde', 'cde', 'de', 'e']\n",
      "['abcde', 'bcde', 'cde', 'de', 'e']\n"
     ]
    }
   ],
   "source": [
    "test = \"a b c d e\".split()\n",
    "test_t = test[:]\n",
    "for i in range(len(test) - 1):\n",
    "    for j in range(len(test) - 1 - i):\n",
    "        test_t[j] = test_t[j] + test[j + i + 1]\n",
    "    print(test_t)"
   ]
  },
  {
   "cell_type": "markdown",
   "metadata": {},
   "source": [
    "이제 정상적으로 동작을 확인했으니, 테스트. 잘 되는 듯."
   ]
  },
  {
   "cell_type": "code",
   "execution_count": 5,
   "metadata": {
    "scrolled": true
   },
   "outputs": [
    {
     "name": "stdout",
     "output_type": "stream",
     "text": [
      "i = 0 j = 6: arr_t = ['0.8', '0.9', '1.2', '1.3', '1.1', '0.6', '1.0', '1.4'], max = 1.260\n",
      "i = 1 j = 5: arr_t = ['1.0', '0.8', '1.6', '1.0', '0.8', '0.8', '1.0', '1.4'], max = 1.638\n",
      "i = 2 j = 4: arr_t = ['0.9', '1.1', '1.3', '0.7', '1.1', '0.8', '1.0', '1.4'], max = 1.638\n",
      "i = 3 j = 3: arr_t = ['1.3', '0.9', '0.9', '1.0', '1.1', '0.8', '1.0', '1.4'], max = 1.638\n",
      "i = 4 j = 2: arr_t = ['1.0', '0.6', '1.3', '1.0', '1.1', '0.8', '1.0', '1.4'], max = 1.638\n",
      "i = 5 j = 1: arr_t = ['0.7', '0.9', '1.3', '1.0', '1.1', '0.8', '1.0', '1.4'], max = 1.638\n",
      "i = 6 j = 0: arr_t = ['1.0', '0.9', '1.3', '1.0', '1.1', '0.8', '1.0', '1.4'], max = 1.638\n"
     ]
    }
   ],
   "source": [
    "max_mul = 0\n",
    "arr_t = arr2[:]\n",
    "for i in range(len(arr2) - 1):    \n",
    "    for j in range(len(arr2) - 1 - i):\n",
    "        arr_t[j] = arr_t[j] * arr2[j + i + 1]\n",
    "        max_mul = max(max_mul, arr_t[j])\n",
    "    print(\"i = %s j = %s: arr_t = %s, max = %.3f\" % (i, j, [\"%.1f\" % i for i in arr_t], max_mul))"
   ]
  },
  {
   "cell_type": "markdown",
   "metadata": {},
   "source": [
    "그런데 정작 문제를 풀어 보니 시간 초과가 나왔다. \n",
    "제한 시간을 보니 1초. 다시 말해서 `O(nlogn)` 이나 `O(n)` 정도가 되어야 한다는 뜻이다. \n",
    "조금 더 고민을 해 보니 곱하기의 특성상 작은 수를 곱하면 작아지니까 굳이 중간값을 다 저장할 필요가 없다...\n",
    "앞의 결과와 현재 수를 곱해서 커지면 가져오고 작아지면 버려버리면 끝..."
   ]
  },
  {
   "cell_type": "code",
   "execution_count": 6,
   "metadata": {},
   "outputs": [
    {
     "name": "stdout",
     "output_type": "stream",
     "text": [
      "1.638\n"
     ]
    }
   ],
   "source": [
    "max1 = arr2[0]\n",
    "max2 = arr2[0]\n",
    "for i in arr2[1:]:\n",
    "    max1 = max(i, max1 * i)\n",
    "    max2 = max(max1, max2)\n",
    "print(\"%.3f\" %max2)"
   ]
  }
 ],
 "metadata": {
  "kernelspec": {
   "display_name": "Python 3",
   "language": "python",
   "name": "python3"
  },
  "language_info": {
   "codemirror_mode": {
    "name": "ipython",
    "version": 3
   },
   "file_extension": ".py",
   "mimetype": "text/x-python",
   "name": "python",
   "nbconvert_exporter": "python",
   "pygments_lexer": "ipython3",
   "version": "3.6.1"
  }
 },
 "nbformat": 4,
 "nbformat_minor": 2
}
