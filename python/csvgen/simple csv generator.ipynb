{
 "cells": [
  {
   "cell_type": "markdown",
   "metadata": {},
   "source": [
    "# user data 생성\n",
    "- USER(UID , NAME, LASTDATE, STARTDATE);\n",
    "- GLOG(LOGID,UID, GAMEDATE, SCORE);"
   ]
  },
  {
   "cell_type": "markdown",
   "metadata": {},
   "source": [
    "```SQL\n",
    "DROP TABLE IF EXISTS USER;\n",
    "CREATE TABLE USER(\n",
    "    UID CHAR(10) PRIMARY KEY,\n",
    "    NAME VARCHAR(32),\n",
    "    LASTDATE TIMESTAMP,\n",
    "    STARTDATE DATETIME\n",
    ");\n",
    "\n",
    "DROP TABLE IF EXISTS GLOG;\n",
    "CREATE TABLE GLOG(\n",
    "    LOGID INT PRIMARY KEY AUTO_INCREMENT,\n",
    "    UID CHAR(10),\n",
    "    GAMEDATE DATETIME,\n",
    "    SCORE INT,\n",
    "    FOREIGN KEY (UID) REFERENCES USER(UID)\n",
    ");\n",
    "```"
   ]
  },
  {
   "cell_type": "code",
   "execution_count": 9,
   "metadata": {},
   "outputs": [],
   "source": [
    "import random\n",
    "import string\n",
    "\n",
    "def genID(n):\n",
    "    str = ''.join(random.choices(string.ascii_uppercase + string.digits, k=n))\n",
    "    return str"
   ]
  },
  {
   "cell_type": "code",
   "execution_count": 10,
   "metadata": {},
   "outputs": [],
   "source": [
    "l = \"김이박정최정강조윤장임한호서신권황\"\n",
    "m = \"동해물과백두산이마르고도록하느님이보우하사우리나라만세무궁화삼천리화려강산대한사람\"\n",
    "def genName():\n",
    "    return random.choice(l) + \"\".join(random.choices(m, k=2))"
   ]
  },
  {
   "cell_type": "code",
   "execution_count": 11,
   "metadata": {},
   "outputs": [],
   "source": [
    "import random\n",
    "import time\n",
    "\n",
    "def strTimeProp(start, end, format, prop):\n",
    "    stime = time.mktime(time.strptime(start, format))\n",
    "    etime = time.mktime(time.strptime(end, format))\n",
    "\n",
    "    ptime = stime + prop * (etime - stime)\n",
    "\n",
    "    return time.strftime(format, time.localtime(ptime))\n",
    "\n",
    "\n",
    "def randomDate(start, end, prop):\n",
    "    return strTimeProp(start, end, '%Y/%m/%d %H:%M:%S', prop)\n",
    "\n",
    "def genDate():\n",
    "    return randomDate(\"2015/1/1 9:30:00\", \"2018/8/9 17:00:00\", random.random())"
   ]
  },
  {
   "cell_type": "code",
   "execution_count": 12,
   "metadata": {},
   "outputs": [
    {
     "name": "stdout",
     "output_type": "stream",
     "text": [
      "Z9CQXEYS4Y,정리두,2016/09/15 04:04:42,2015/03/20 02:24:20\n"
     ]
    }
   ],
   "source": [
    "record = \"{},{},{},{}\".format(genID(10), genName(),genDate(), genDate())\n",
    "print(record)"
   ]
  },
  {
   "cell_type": "code",
   "execution_count": 13,
   "metadata": {},
   "outputs": [],
   "source": [
    "r1 = 20000\n",
    "with open(\"user.csv\",\"w\") as f:\n",
    "    for i in range(r1):\n",
    "        record = \"{},{},{},{}\\n\".format(genID(10), genName(),genDate(), genDate())\n",
    "        f.write(record)    "
   ]
  },
  {
   "cell_type": "code",
   "execution_count": 14,
   "metadata": {},
   "outputs": [
    {
     "name": "stdout",
     "output_type": "stream",
     "text": [
      "/Users/honux/github/practice/python/csvgen\r\n"
     ]
    }
   ],
   "source": [
    "!pwd"
   ]
  },
  {
   "cell_type": "markdown",
   "metadata": {},
   "source": [
    "## LOAD USER FILE FROM CSV"
   ]
  },
  {
   "cell_type": "code",
   "execution_count": 15,
   "metadata": {},
   "outputs": [],
   "source": [
    "import pandas as pd"
   ]
  },
  {
   "cell_type": "code",
   "execution_count": 16,
   "metadata": {},
   "outputs": [],
   "source": [
    "df = pd.read_csv('./user.csv', header=None,\n",
    "                 names=['ID','NAME','LAST','START'])"
   ]
  },
  {
   "cell_type": "code",
   "execution_count": 17,
   "metadata": {},
   "outputs": [
    {
     "data": {
      "text/plain": [
       "'QUSBBJCKRP'"
      ]
     },
     "execution_count": 17,
     "metadata": {},
     "output_type": "execute_result"
    }
   ],
   "source": [
    "random.choice(df['ID'])"
   ]
  },
  {
   "cell_type": "code",
   "execution_count": 18,
   "metadata": {},
   "outputs": [
    {
     "data": {
      "text/plain": [
       "'O7F7BKEO3A'"
      ]
     },
     "execution_count": 18,
     "metadata": {},
     "output_type": "execute_result"
    }
   ],
   "source": [
    "random.choice(df['ID'])"
   ]
  },
  {
   "cell_type": "markdown",
   "metadata": {},
   "source": [
    "## Gen GLG\n",
    "- GLOG(LOGID,UID, GAMEDATE, SCORE);"
   ]
  },
  {
   "cell_type": "code",
   "execution_count": 19,
   "metadata": {},
   "outputs": [
    {
     "data": {
      "text/plain": [
       "374082"
      ]
     },
     "execution_count": 19,
     "metadata": {},
     "output_type": "execute_result"
    }
   ],
   "source": [
    "random.randint(1000,1000000)"
   ]
  },
  {
   "cell_type": "code",
   "execution_count": 20,
   "metadata": {},
   "outputs": [],
   "source": [
    "r2 = 3000000\n",
    "with open('glog.csv','w') as gl:\n",
    "    for i in range(r2):\n",
    "        uid = random.choice(df['ID'])\n",
    "        date = genDate()\n",
    "        score = random.randint(1000,1000000)\n",
    "        record = \",{},{},{}\\n\".format(uid,date,score)\n",
    "        gl.write(record)"
   ]
  },
  {
   "cell_type": "code",
   "execution_count": 21,
   "metadata": {},
   "outputs": [
    {
     "name": "stdout",
     "output_type": "stream",
     "text": [
      "glog.csv                   user.csv\r\n",
      "simple csv generator.ipynb\r\n"
     ]
    }
   ],
   "source": [
    "!ls"
   ]
  },
  {
   "cell_type": "code",
   "execution_count": 22,
   "metadata": {},
   "outputs": [
    {
     "ename": "SyntaxError",
     "evalue": "invalid syntax (<ipython-input-22-23b2acda31e1>, line 3)",
     "output_type": "error",
     "traceback": [
      "\u001b[0;36m  File \u001b[0;32m\"<ipython-input-22-23b2acda31e1>\"\u001b[0;36m, line \u001b[0;32m3\u001b[0m\n\u001b[0;31m    - 그냥 load: 22.45초\u001b[0m\n\u001b[0m            ^\u001b[0m\n\u001b[0;31mSyntaxError\u001b[0m\u001b[0;31m:\u001b[0m invalid syntax\n"
     ]
    }
   ],
   "source": [
    "## 기록\n",
    "\n",
    "- 그냥 load: 22.45초\n",
    "- set autocommit=0, unique_checks=0, "
   ]
  }
 ],
 "metadata": {
  "kernelspec": {
   "display_name": "Python 3",
   "language": "python",
   "name": "python3"
  },
  "language_info": {
   "codemirror_mode": {
    "name": "ipython",
    "version": 3
   },
   "file_extension": ".py",
   "mimetype": "text/x-python",
   "name": "python",
   "nbconvert_exporter": "python",
   "pygments_lexer": "ipython3",
   "version": "3.6.4"
  }
 },
 "nbformat": 4,
 "nbformat_minor": 2
}
