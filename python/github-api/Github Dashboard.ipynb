{
 "cells": [
  {
   "cell_type": "markdown",
   "metadata": {},
   "source": [
    "## Read user info from csv\n"
   ]
  },
  {
   "cell_type": "code",
   "execution_count": 17,
   "metadata": {
    "collapsed": true
   },
   "outputs": [],
   "source": [
    "import csv"
   ]
  },
  {
   "cell_type": "code",
   "execution_count": 23,
   "metadata": {},
   "outputs": [
    {
     "data": {
      "text/plain": [
       "[{'id': 'honux77', 'name': '정호영', 'repo': 'ml-squad'}]"
      ]
     },
     "execution_count": 23,
     "metadata": {},
     "output_type": "execute_result"
    }
   ],
   "source": [
    "import csv\n",
    "users = []\n",
    "f = open('data.csv', 'r', encoding='utf-8')\n",
    "rdr = csv.reader(f)\n",
    "for line in rdr:\n",
    "    users.append({\n",
    "        \"name\": line[0],\n",
    "        \"id\": line[1],\n",
    "        \"repo\": line[2],\n",
    "    })\n",
    "f.close()\n",
    "users"
   ]
  },
  {
   "cell_type": "markdown",
   "metadata": {},
   "source": [
    "## Read github repo"
   ]
  },
  {
   "cell_type": "code",
   "execution_count": 1,
   "metadata": {
    "collapsed": true
   },
   "outputs": [],
   "source": [
    "import requests"
   ]
  },
  {
   "cell_type": "code",
   "execution_count": 30,
   "metadata": {
    "collapsed": true
   },
   "outputs": [],
   "source": [
    "def countCommits(commits):\n",
    "    count = 0;\n",
    "    for commit in commits:\n",
    "        count += 1\n",
    "    return count\n",
    "def getLastDate(commits):\n",
    "    return commits[0]['commit']['author']['date']"
   ]
  },
  {
   "cell_type": "code",
   "execution_count": 42,
   "metadata": {
    "collapsed": true
   },
   "outputs": [],
   "source": [
    "def readGithub(user):\n",
    "    cmd = \"/repos/\" + user[\"id\"] + \"/ml-squad/commits\"\n",
    "    res = requests.get(url + cmd)\n",
    "    if res.status_code == 200:\n",
    "        commits = res.json()\n",
    "        user['count'] = countCommits(commits)\n",
    "        user['last_commit'] = getLastDate(commits)\n",
    "    else:\n",
    "        user['count'] = -1\n",
    "        user['last_commit'] = \"Some Error\""
   ]
  },
  {
   "cell_type": "code",
   "execution_count": 43,
   "metadata": {},
   "outputs": [
    {
     "data": {
      "text/plain": [
       "[{'count': 2,\n",
       "  'id': 'honux77',\n",
       "  'last_commit': '2017-12-18T09:44:36Z',\n",
       "  'name': '정호영',\n",
       "  'repo': 'ml-squad'}]"
      ]
     },
     "execution_count": 43,
     "metadata": {},
     "output_type": "execute_result"
    }
   ],
   "source": [
    "for user in users:\n",
    "    readGithub(user)\n",
    "users"
   ]
  },
  {
   "cell_type": "code",
   "execution_count": 40,
   "metadata": {},
   "outputs": [],
   "source": [
    "cmd = \"/repos/\" + \"honux77\" + \"/ml-squad/commits\"\n",
    "res = requests.get(url + cmd)"
   ]
  }
 ],
 "metadata": {
  "kernelspec": {
   "display_name": "Python 3",
   "language": "python",
   "name": "python3"
  },
  "language_info": {
   "codemirror_mode": {
    "name": "ipython",
    "version": 3
   },
   "file_extension": ".py",
   "mimetype": "text/x-python",
   "name": "python",
   "nbconvert_exporter": "python",
   "pygments_lexer": "ipython3",
   "version": "3.5.2"
  }
 },
 "nbformat": 4,
 "nbformat_minor": 2
}
