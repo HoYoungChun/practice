{
 "cells": [
  {
   "cell_type": "markdown",
   "metadata": {},
   "source": [
    "# client 생성"
   ]
  },
  {
   "cell_type": "code",
   "execution_count": 66,
   "metadata": {},
   "outputs": [],
   "source": [
    "import boto3"
   ]
  },
  {
   "cell_type": "code",
   "execution_count": 67,
   "metadata": {},
   "outputs": [],
   "source": [
    "ec2 = boto3.resource('ec2') #high level client"
   ]
  },
  {
   "cell_type": "code",
   "execution_count": 68,
   "metadata": {},
   "outputs": [],
   "source": [
    "instances = ec2.instances.all()"
   ]
  },
  {
   "cell_type": "code",
   "execution_count": 69,
   "metadata": {},
   "outputs": [
    {
     "name": "stdout",
     "output_type": "stream",
     "text": [
      "ec2.Instance(id='i-0cda56764352ef50e')\n",
      "ec2.Instance(id='i-0e0c4fa77f5a678b2')\n",
      "ec2.Instance(id='i-07e52d2fbc2ebd266')\n",
      "ec2.Instance(id='i-0d022de22510a69b7')\n",
      "ec2.Instance(id='i-0e701a6507dbae898')\n"
     ]
    }
   ],
   "source": [
    "for i in instances:\n",
    "    print(i)"
   ]
  },
  {
   "cell_type": "code",
   "execution_count": 70,
   "metadata": {},
   "outputs": [],
   "source": [
    "i1 = ec2.Instance(id='i-0cda56764352ef50e')"
   ]
  },
  {
   "cell_type": "code",
   "execution_count": 72,
   "metadata": {},
   "outputs": [
    {
     "name": "stdout",
     "output_type": "stream",
     "text": [
      "[{'Key': 'Environment', 'Value': 'production'}, {'Key': 'Name', 'Value': 'june-prod-NAT'}]\n"
     ]
    }
   ],
   "source": [
    "tag = i1.tags\n",
    "print(tag)"
   ]
  },
  {
   "cell_type": "code",
   "execution_count": 73,
   "metadata": {},
   "outputs": [
    {
     "data": {
      "text/plain": [
       "'june-prod-NAT'"
      ]
     },
     "execution_count": 73,
     "metadata": {},
     "output_type": "execute_result"
    }
   ],
   "source": [
    "next((t['Value'] for t in i1.tags if t['Key'] == 'Name'), None)"
   ]
  },
  {
   "cell_type": "code",
   "execution_count": 74,
   "metadata": {},
   "outputs": [
    {
     "name": "stdout",
     "output_type": "stream",
     "text": [
      "None\n"
     ]
    }
   ],
   "source": [
    "b = next((t['Value'] for t in i1.tags if t['Key'] == 'dd'), None)\n",
    "print(b)"
   ]
  },
  {
   "cell_type": "code",
   "execution_count": 75,
   "metadata": {},
   "outputs": [],
   "source": [
    "def findTag(instance, key, value):\n",
    "    tags = instance.tags\n",
    "    if tags is None:\n",
    "        return False        \n",
    "    tag_value = next((t['Value'] for t in tags if t['Key'] == key), None)\n",
    "    return tag_value == value "
   ]
  },
  {
   "cell_type": "code",
   "execution_count": 76,
   "metadata": {},
   "outputs": [
    {
     "data": {
      "text/plain": [
       "False"
      ]
     },
     "execution_count": 76,
     "metadata": {},
     "output_type": "execute_result"
    }
   ],
   "source": [
    "findTag(i1,'Name', value='tt')"
   ]
  },
  {
   "cell_type": "code",
   "execution_count": 77,
   "metadata": {},
   "outputs": [
    {
     "data": {
      "text/plain": [
       "True"
      ]
     },
     "execution_count": 77,
     "metadata": {},
     "output_type": "execute_result"
    }
   ],
   "source": [
    "findTag(i1,'Name', value='june-prod-NAT')"
   ]
  },
  {
   "cell_type": "code",
   "execution_count": 78,
   "metadata": {},
   "outputs": [
    {
     "data": {
      "text/plain": [
       "False"
      ]
     },
     "execution_count": 78,
     "metadata": {},
     "output_type": "execute_result"
    }
   ],
   "source": [
    "findTag(i1,'d', value='june-prod-NAT')"
   ]
  },
  {
   "cell_type": "code",
   "execution_count": 84,
   "metadata": {},
   "outputs": [
    {
     "name": "stdout",
     "output_type": "stream",
     "text": [
      "i-0cda56764352ef50e False\n",
      "i-0e0c4fa77f5a678b2 True\n",
      "i-07e52d2fbc2ebd266 False\n",
      "i-0d022de22510a69b7 False\n",
      "i-0e701a6507dbae898 False\n"
     ]
    }
   ],
   "source": [
    "for i in instances:\n",
    "    print(i.instance_id, findTag(i, 'Stop', 'auto'))"
   ]
  }
 ],
 "metadata": {
  "kernelspec": {
   "display_name": "Python 3",
   "language": "python",
   "name": "python3"
  },
  "language_info": {
   "codemirror_mode": {
    "name": "ipython",
    "version": 3
   },
   "file_extension": ".py",
   "mimetype": "text/x-python",
   "name": "python",
   "nbconvert_exporter": "python",
   "pygments_lexer": "ipython3",
   "version": "3.7.1"
  }
 },
 "nbformat": 4,
 "nbformat_minor": 2
}
